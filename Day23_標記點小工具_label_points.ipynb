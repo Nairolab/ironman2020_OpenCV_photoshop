{
 "cells": [
  {
   "cell_type": "code",
   "execution_count": 25,
   "metadata": {
    "ExecuteTime": {
     "end_time": "2020-09-12T16:18:16.710143Z",
     "start_time": "2020-09-12T16:18:16.310648Z"
    }
   },
   "outputs": [],
   "source": [
    "import cv2\n",
    "import numpy as np\n",
    "import matplotlib.pyplot as plt\n",
    "import glob\n",
    "from IPython.display import clear_output\n"
   ]
  },
  {
   "cell_type": "code",
   "execution_count": 26,
   "metadata": {
    "ExecuteTime": {
     "end_time": "2020-09-12T16:18:16.719341Z",
     "start_time": "2020-09-12T16:18:16.714296Z"
    }
   },
   "outputs": [],
   "source": [
    "def show_img(img, bigger=False):\n",
    "    if bigger:\n",
    "        plt.figure(figsize=(15,15))\n",
    "    image_rgb = cv2.cvtColor(img, cv2.COLOR_BGR2RGB)\n",
    "    plt.imshow(image_rgb)\n",
    "    plt.show()"
   ]
  },
  {
   "cell_type": "code",
   "execution_count": null,
   "metadata": {},
   "outputs": [],
   "source": [
    "\n",
    "\n"
   ]
  },
  {
   "cell_type": "code",
   "execution_count": 27,
   "metadata": {},
   "outputs": [],
   "source": [
    "def mouse_handler(event, x, y, flags, data):\n",
    "    if event == cv2.EVENT_LBUTTONDOWN:\n",
    "        # 標記點位置\n",
    "        cv2.circle(data['img'], (x,y), 3, (0,0,255), 5, 16) \n",
    "\n",
    "        # 改變顯示 window 的內容\n",
    "        cv2.imshow(\"Image\", data['img'])\n",
    "        \n",
    "        # 顯示 (x,y) 並儲存到 list中\n",
    "        print(\"get points: (x, y) = ({}, {})\".format(x, y))\n",
    "        data['points'].append((x,y))\n",
    "\n",
    "def get_points(im):\n",
    "    # 建立 data dict, img:存放圖片, points:存放點\n",
    "    data = {}\n",
    "    data['img'] = im.copy()\n",
    "    data['points'] = []\n",
    "    \n",
    "    # 建立一個 window\n",
    "    cv2.namedWindow(\"Image\", 0)\n",
    "    \n",
    "    # 改變 window 成為適當圖片大小\n",
    "    h, w, dim = im.shape\n",
    "    print(\"Img height, width: ({}, {})\".format(h, w))\n",
    "    cv2.resizeWindow(\"Image\", w, h)\n",
    "        \n",
    "    # 顯示圖片在 window 中\n",
    "    cv2.imshow('Image',im)\n",
    "    \n",
    "    # 利用滑鼠回傳值，資料皆保存於 data dict中\n",
    "    cv2.setMouseCallback(\"Image\", mouse_handler, data)\n",
    "    \n",
    "    # 等待關閉視窗，藉由 OpenCV 內建函數釋放資源\n",
    "    cv2.waitKey(0)\n",
    "    cv2.destroyAllWindows()\n",
    "    \n",
    "    # 回傳點 list\n",
    "    return data['points']"
   ]
  },
  {
   "cell_type": "code",
   "execution_count": 28,
   "metadata": {},
   "outputs": [
    {
     "name": "stdout",
     "output_type": "stream",
     "text": [
      "Click on four corners of bllboard and the press ENTER\n",
      "Img height, width: (486, 864)\n",
      "get points: (x, y) = (543, 461)\n",
      "get points: (x, y) = (623, 437)\n",
      "get points: (x, y) = (674, 392)\n",
      "get points: (x, y) = (668, 324)\n",
      "get points: (x, y) = (670, 268)\n",
      "get points: (x, y) = (722, 222)\n",
      "get points: (x, y) = (750, 122)\n",
      "get points: (x, y) = (730, 74)\n",
      "get points: (x, y) = (644, 74)\n",
      "get points: (x, y) = (605, 80)\n",
      "get points: (x, y) = (557, 34)\n",
      "get points: (x, y) = (436, 24)\n",
      "get points: (x, y) = (385, 62)\n",
      "get points: (x, y) = (320, 70)\n",
      "get points: (x, y) = (235, 49)\n",
      "get points: (x, y) = (204, 45)\n",
      "get points: (x, y) = (139, 45)\n",
      "get points: (x, y) = (104, 61)\n",
      "get points: (x, y) = (19, 67)\n",
      "\n",
      "points list:\n",
      "[(543, 461), (623, 437), (674, 392), (668, 324), (670, 268), (722, 222), (750, 122), (730, 74), (644, 74), (605, 80), (557, 34), (436, 24), (385, 62), (320, 70), (235, 49), (204, 45), (139, 45), (104, 61), (19, 67)]\n"
     ]
    }
   ],
   "source": [
    "#Read the destination image\n",
    "img_dst = cv2.imread(\"./testdata/cat.jpg\")\n",
    "\n",
    "print(\"Click on four corners of bllboard and the press ENTER\")\n",
    "points  = get_points(img_dst)\n",
    "\n",
    "print(\"\\npoints list:\")\n",
    "print(points)"
   ]
  },
  {
   "cell_type": "code",
   "execution_count": null,
   "metadata": {},
   "outputs": [],
   "source": []
  },
  {
   "cell_type": "code",
   "execution_count": null,
   "metadata": {},
   "outputs": [],
   "source": []
  },
  {
   "cell_type": "markdown",
   "metadata": {},
   "source": [
    "# Reference\n",
    "\n",
    "https://zhuanlan.zhihu.com/p/143035374\n",
    "\n",
    "https://kknews.cc/code/3oqxejy.html\n",
    "\n",
    "https://blog.csdn.net/fanjiule/article/details/81606596\n",
    "\n",
    "https://blog.csdn.net/yefcion/article/details/79435591"
   ]
  },
  {
   "cell_type": "code",
   "execution_count": null,
   "metadata": {},
   "outputs": [],
   "source": []
  },
  {
   "cell_type": "code",
   "execution_count": null,
   "metadata": {},
   "outputs": [],
   "source": []
  },
  {
   "cell_type": "code",
   "execution_count": null,
   "metadata": {},
   "outputs": [],
   "source": []
  },
  {
   "cell_type": "code",
   "execution_count": null,
   "metadata": {},
   "outputs": [],
   "source": []
  },
  {
   "cell_type": "code",
   "execution_count": null,
   "metadata": {},
   "outputs": [],
   "source": []
  },
  {
   "cell_type": "code",
   "execution_count": null,
   "metadata": {},
   "outputs": [],
   "source": []
  },
  {
   "cell_type": "code",
   "execution_count": null,
   "metadata": {},
   "outputs": [],
   "source": []
  }
 ],
 "metadata": {
  "kernelspec": {
   "display_name": "Python 3",
   "language": "python",
   "name": "python3"
  },
  "language_info": {
   "codemirror_mode": {
    "name": "ipython",
    "version": 3
   },
   "file_extension": ".py",
   "mimetype": "text/x-python",
   "name": "python",
   "nbconvert_exporter": "python",
   "pygments_lexer": "ipython3",
   "version": "3.8.5"
  },
  "varInspector": {
   "cols": {
    "lenName": 16,
    "lenType": 16,
    "lenVar": 40
   },
   "kernels_config": {
    "python": {
     "delete_cmd_postfix": "",
     "delete_cmd_prefix": "del ",
     "library": "var_list.py",
     "varRefreshCmd": "print(var_dic_list())"
    },
    "r": {
     "delete_cmd_postfix": ") ",
     "delete_cmd_prefix": "rm(",
     "library": "var_list.r",
     "varRefreshCmd": "cat(var_dic_list()) "
    }
   },
   "types_to_exclude": [
    "module",
    "function",
    "builtin_function_or_method",
    "instance",
    "_Feature"
   ],
   "window_display": false
  }
 },
 "nbformat": 4,
 "nbformat_minor": 2
}
