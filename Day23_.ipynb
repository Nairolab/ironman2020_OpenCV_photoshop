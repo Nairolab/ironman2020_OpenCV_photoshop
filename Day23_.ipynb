{
 "cells": [
  {
   "cell_type": "code",
   "execution_count": 1,
   "metadata": {
    "ExecuteTime": {
     "end_time": "2020-09-12T16:18:16.710143Z",
     "start_time": "2020-09-12T16:18:16.310648Z"
    }
   },
   "outputs": [],
   "source": [
    "import cv2\n",
    "import numpy as np\n",
    "import matplotlib.pyplot as plt\n",
    "import glob\n",
    "from IPython.display import clear_output\n"
   ]
  },
  {
   "cell_type": "code",
   "execution_count": 2,
   "metadata": {
    "ExecuteTime": {
     "end_time": "2020-09-12T16:18:16.719341Z",
     "start_time": "2020-09-12T16:18:16.714296Z"
    }
   },
   "outputs": [],
   "source": [
    "def show_img(img, bigger=False):\n",
    "    if bigger:\n",
    "        plt.figure(figsize=(15,15))\n",
    "    image_rgb = cv2.cvtColor(img, cv2.COLOR_BGR2RGB)\n",
    "    plt.imshow(image_rgb)\n",
    "    plt.show()"
   ]
  },
  {
   "cell_type": "code",
   "execution_count": null,
   "metadata": {},
   "outputs": [],
   "source": [
    "\n",
    "\n"
   ]
  },
  {
   "cell_type": "code",
   "execution_count": 3,
   "metadata": {},
   "outputs": [],
   "source": [
    "def mouse_handler(event,x,y,flags,data):\n",
    "    if event ==cv2.EVENT_LBUTTONDOWN:\n",
    "        cv2.circle(data['im'],(x,y),3,(0,0,255),5,16)\n",
    "        cv2.namedWindow(\"Image\",0)\n",
    "        cv2.imshow(\"Image\",data['im'])\n",
    "#         if len(data['points']) <4:\n",
    "        data['points'].append([x,y])\n",
    "\n",
    "def get_points(im):\n",
    "    data = {}\n",
    "    data['im'] = im.copy()\n",
    "    data['points'] = []\n",
    "    # Set the callback function for any mouse event\n",
    "    cv2.namedWindow(\"Image\", 0)\n",
    "    cv2.imshow('Image',im)\n",
    "    #请注意你标记点的数据，是顺时针，需要与pst_src 方向一致\n",
    "    cv2.setMouseCallback(\"Image\",mouse_handler,data)\n",
    "    cv2.waitKey(0)\n",
    "    # Convert array to np.array\n",
    "    #竖直方向堆叠起来;;;\n",
    "    points = np.vstack(data['points']).astype(float)\n",
    "    return points"
   ]
  },
  {
   "cell_type": "code",
   "execution_count": 4,
   "metadata": {},
   "outputs": [
    {
     "name": "stdout",
     "output_type": "stream",
     "text": [
      "Click on four corners of bllboard and the press ENTER\n",
      "[[760. 249.]\n",
      " [941. 396.]\n",
      " [991. 707.]\n",
      " [789. 979.]\n",
      " [353. 988.]\n",
      " [300. 672.]\n",
      " [238. 449.]]\n"
     ]
    }
   ],
   "source": [
    "img_src = cv2.imread(\"./testdata/me.jpg\")\n",
    "size = img_src.shape\n",
    "# 取得四个坐标\n",
    "pst_src = np.array(\n",
    "    [\n",
    "        [0,0],[size[1]-1,0],\n",
    "        [size[1]-1,size[0]-1],\n",
    "        [0,size[0]-1]\n",
    "     ],dtype=float\n",
    ")\n",
    "\n",
    "#Read the destination image\n",
    "img_dst = cv2.imread(\"./testdata/me.jpg\")\n",
    "\n",
    "print(\"Click on four corners of bllboard and the press ENTER\")\n",
    "points  = get_points(img_dst)\n",
    "\n",
    "print(points)"
   ]
  },
  {
   "cell_type": "code",
   "execution_count": 5,
   "metadata": {},
   "outputs": [
    {
     "ename": "error",
     "evalue": "OpenCV(4.4.0) C:\\Users\\appveyor\\AppData\\Local\\Temp\\1\\pip-req-build-k8sx3e60\\opencv\\modules\\calib3d\\src\\fundam.cpp:380: error: (-215:Assertion failed) src.checkVector(2) == dst.checkVector(2) in function 'cv::findHomography'\n",
     "output_type": "error",
     "traceback": [
      "\u001b[1;31m---------------------------------------------------------------------------\u001b[0m",
      "\u001b[1;31merror\u001b[0m                                     Traceback (most recent call last)",
      "\u001b[1;32m<ipython-input-5-fcc2e1a9ffb7>\u001b[0m in \u001b[0;36m<module>\u001b[1;34m\u001b[0m\n\u001b[0;32m      1\u001b[0m \u001b[1;31m# Calculate  Homography between  source and destination points\u001b[0m\u001b[1;33m\u001b[0m\u001b[1;33m\u001b[0m\u001b[1;33m\u001b[0m\u001b[0m\n\u001b[1;32m----> 2\u001b[1;33m \u001b[0mh\u001b[0m\u001b[1;33m,\u001b[0m\u001b[0mstatus\u001b[0m \u001b[1;33m=\u001b[0m \u001b[0mcv2\u001b[0m\u001b[1;33m.\u001b[0m\u001b[0mfindHomography\u001b[0m\u001b[1;33m(\u001b[0m\u001b[0mpst_src\u001b[0m\u001b[1;33m,\u001b[0m\u001b[0mfour_point\u001b[0m\u001b[1;33m)\u001b[0m\u001b[1;33m\u001b[0m\u001b[1;33m\u001b[0m\u001b[0m\n\u001b[0m\u001b[0;32m      3\u001b[0m \u001b[1;33m\u001b[0m\u001b[0m\n\u001b[0;32m      4\u001b[0m \u001b[0mim_temp\u001b[0m \u001b[1;33m=\u001b[0m \u001b[0mcv2\u001b[0m\u001b[1;33m.\u001b[0m\u001b[0mwarpPerspective\u001b[0m\u001b[1;33m(\u001b[0m\u001b[0mimg_src\u001b[0m\u001b[1;33m,\u001b[0m\u001b[0mh\u001b[0m\u001b[1;33m,\u001b[0m\u001b[1;33m(\u001b[0m\u001b[0mimg_dst\u001b[0m\u001b[1;33m.\u001b[0m\u001b[0mshape\u001b[0m\u001b[1;33m[\u001b[0m\u001b[1;36m1\u001b[0m\u001b[1;33m]\u001b[0m\u001b[1;33m,\u001b[0m\u001b[0mimg_dst\u001b[0m\u001b[1;33m.\u001b[0m\u001b[0mshape\u001b[0m\u001b[1;33m[\u001b[0m\u001b[1;36m0\u001b[0m\u001b[1;33m]\u001b[0m\u001b[1;33m)\u001b[0m\u001b[1;33m)\u001b[0m\u001b[1;33m\u001b[0m\u001b[1;33m\u001b[0m\u001b[0m\n\u001b[0;32m      5\u001b[0m \u001b[1;33m\u001b[0m\u001b[0m\n",
      "\u001b[1;31merror\u001b[0m: OpenCV(4.4.0) C:\\Users\\appveyor\\AppData\\Local\\Temp\\1\\pip-req-build-k8sx3e60\\opencv\\modules\\calib3d\\src\\fundam.cpp:380: error: (-215:Assertion failed) src.checkVector(2) == dst.checkVector(2) in function 'cv::findHomography'\n"
     ]
    }
   ],
   "source": [
    "# Calculate  Homography between  source and destination points\n",
    "h,status = cv2.findHomography(pst_src,four_point)\n",
    "\n",
    "im_temp = cv2.warpPerspective(img_src,h,(img_dst.shape[1],img_dst.shape[0]))\n",
    "\n",
    "cv2.fillConvexPoly(img_dst,four_point.astype(int),0,16)\n",
    "\n",
    "#add wraped source image to destination image\n",
    "\n",
    "img_dst = img_dst + im_temp\n",
    "cv2.namedWindow(\"Image\", 0)\n",
    "cv2.imshow(\"Image\",img_dst)\n",
    "cv2.waitKey(0)"
   ]
  },
  {
   "cell_type": "code",
   "execution_count": null,
   "metadata": {},
   "outputs": [],
   "source": []
  },
  {
   "cell_type": "code",
   "execution_count": null,
   "metadata": {},
   "outputs": [],
   "source": []
  },
  {
   "cell_type": "code",
   "execution_count": null,
   "metadata": {
    "scrolled": false
   },
   "outputs": [],
   "source": [
    "# Load two images\n",
    "file_name = \"./testdata/cat.jpg\"\n",
    "img1 = cv2.imread(file_name)\n",
    "print(\"Image1:\")\n",
    "show_img(img1)\n",
    "\n",
    "file_name = \"./testdata/me.jpg\"\n",
    "img2 = cv2.imread(file_name)\n",
    "print(\"Image2:\")\n",
    "show_img(img2)\n",
    "img2 = resize_img(img2, scale_percent = 25) # 要放大縮小幾%\n",
    "print(\"resize Image2:\")\n",
    "show_img(img2)\n",
    "\n",
    "copyIma = img2.copy()\n",
    "h, w = img2.shape[:2]\n",
    "mask = np.zeros([h+2, w+2], np.uint8)\n",
    "cv2.floodFill(copyIma, mask, (30, 30), (255, 255, 255), (100, 100, 100), (50, 50, 50), cv2.FLOODFILL_FIXED_RANGE)  \n",
    "\n",
    "print(\"floodFill:\")\n",
    "show_img(copyIma)\n",
    "\n",
    "# Now create a mask of logo and create its inverse mask also\n",
    "img2gray = cv2.cvtColor(copyIma,cv2.COLOR_BGR2GRAY)\n",
    "ret, mask = cv2.threshold(img2gray, 254, 255, cv2.THRESH_BINARY)\n",
    "\n",
    "print(\"mask:\")\n",
    "show_img(mask)\n",
    "\n",
    "# I want to put logo on top-left corner, So I create a ROI\n",
    "rows, cols, channels = img2.shape\n",
    "x = 450 \n",
    "y = 170\n",
    "roi = img1[y:y+rows, x:x+cols]\n",
    "\n",
    "print(\"Use mask to crop origin image1:\")\n",
    "# Now black-out the area of logo in ROI\n",
    "img1_bg = cv2.bitwise_and(roi, roi, mask = mask)\n",
    "show_img(img1_bg)\n",
    "\n",
    "print(\"mask_inv:\")\n",
    "mask_inv = cv2.bitwise_not(mask)\n",
    "show_img(mask_inv)\n",
    "\n",
    "print(\"Take element from image2:\")\n",
    "# Take only region of logo from logo image.\n",
    "img2_fg = cv2.bitwise_and(img2, img2, mask = mask_inv)\n",
    "show_img(img2_fg)\n",
    "\n",
    "print(\"result image:\")\n",
    "# Put logo in ROI and modify the main image\n",
    "dst = cv2.add(img1_bg,img2_fg)\n",
    "img1[y:y+rows, x:x+cols] = dst\n",
    "\n",
    "show_img(img1, bigger=True)\n"
   ]
  },
  {
   "cell_type": "code",
   "execution_count": null,
   "metadata": {},
   "outputs": [],
   "source": []
  },
  {
   "cell_type": "code",
   "execution_count": null,
   "metadata": {},
   "outputs": [],
   "source": []
  },
  {
   "cell_type": "code",
   "execution_count": null,
   "metadata": {},
   "outputs": [],
   "source": []
  },
  {
   "cell_type": "code",
   "execution_count": null,
   "metadata": {},
   "outputs": [],
   "source": []
  },
  {
   "cell_type": "markdown",
   "metadata": {},
   "source": [
    "# Reference\n",
    "\n",
    "https://zhuanlan.zhihu.com/p/143035374\n",
    "\n",
    "https://kknews.cc/code/3oqxejy.html\n"
   ]
  },
  {
   "cell_type": "code",
   "execution_count": null,
   "metadata": {},
   "outputs": [],
   "source": []
  },
  {
   "cell_type": "code",
   "execution_count": null,
   "metadata": {},
   "outputs": [],
   "source": []
  },
  {
   "cell_type": "code",
   "execution_count": null,
   "metadata": {},
   "outputs": [],
   "source": []
  },
  {
   "cell_type": "code",
   "execution_count": null,
   "metadata": {},
   "outputs": [],
   "source": []
  },
  {
   "cell_type": "code",
   "execution_count": null,
   "metadata": {},
   "outputs": [],
   "source": []
  },
  {
   "cell_type": "code",
   "execution_count": null,
   "metadata": {},
   "outputs": [],
   "source": []
  },
  {
   "cell_type": "code",
   "execution_count": null,
   "metadata": {},
   "outputs": [],
   "source": []
  }
 ],
 "metadata": {
  "kernelspec": {
   "display_name": "Python 3",
   "language": "python",
   "name": "python3"
  },
  "language_info": {
   "codemirror_mode": {
    "name": "ipython",
    "version": 3
   },
   "file_extension": ".py",
   "mimetype": "text/x-python",
   "name": "python",
   "nbconvert_exporter": "python",
   "pygments_lexer": "ipython3",
   "version": "3.8.5"
  },
  "varInspector": {
   "cols": {
    "lenName": 16,
    "lenType": 16,
    "lenVar": 40
   },
   "kernels_config": {
    "python": {
     "delete_cmd_postfix": "",
     "delete_cmd_prefix": "del ",
     "library": "var_list.py",
     "varRefreshCmd": "print(var_dic_list())"
    },
    "r": {
     "delete_cmd_postfix": ") ",
     "delete_cmd_prefix": "rm(",
     "library": "var_list.r",
     "varRefreshCmd": "cat(var_dic_list()) "
    }
   },
   "types_to_exclude": [
    "module",
    "function",
    "builtin_function_or_method",
    "instance",
    "_Feature"
   ],
   "window_display": false
  }
 },
 "nbformat": 4,
 "nbformat_minor": 2
}
