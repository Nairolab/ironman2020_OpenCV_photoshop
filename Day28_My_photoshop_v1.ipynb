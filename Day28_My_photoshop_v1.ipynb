{
 "cells": [
  {
   "cell_type": "code",
   "execution_count": null,
   "metadata": {},
   "outputs": [],
   "source": [
    "import cv2\n",
    "import glob\n",
    "import time\n",
    "import math\n",
    "import io\n",
    "import PIL\n",
    "\n",
    "from IPython.display import clear_output\n",
    "import matplotlib\n",
    "import matplotlib.pyplot as plt\n",
    "import numpy as np"
   ]
  },
  {
   "cell_type": "code",
   "execution_count": null,
   "metadata": {},
   "outputs": [],
   "source": []
  },
  {
   "cell_type": "code",
   "execution_count": null,
   "metadata": {},
   "outputs": [],
   "source": [
    "def resize_img(img, scale_percent):\n",
    "    # percent of original size\n",
    "    width = int(img.shape[1] * scale_percent / 100)\n",
    "    height = int(img.shape[0] * scale_percent / 100)\n",
    "    dim = (width, height)  \n",
    "    resize_img = cv2.resize(img, dim, interpolation = cv2.INTER_AREA)  \n",
    "        \n",
    "    return resize_img"
   ]
  },
  {
   "cell_type": "code",
   "execution_count": null,
   "metadata": {},
   "outputs": [],
   "source": [
    "def rotate_img(img, rotation=0):\n",
    "    (h, w, d) = img.shape\n",
    "    center = (w // 2, h // 2)\n",
    "    \n",
    "    # 第一個參數旋轉中心，第二個參數旋轉角度(-順時針/+逆時針)，第三個參數縮放比例\n",
    "    M = cv2.getRotationMatrix2D(center, rotation, 1.0)\n",
    "    \n",
    "    # 第三個參數變化後的圖片大小\n",
    "    rotate_img = cv2.warpAffine(img, M, (w, h))\n",
    "    \n",
    "    return rotate_img"
   ]
  },
  {
   "cell_type": "code",
   "execution_count": null,
   "metadata": {},
   "outputs": [],
   "source": [
    "def gaussian_noise(img, mean=0, sigma=0.1):\n",
    "    # int -> float (標準化)\n",
    "    img = img / 255.0\n",
    "    # 隨機生成高斯 noise (float + float)\n",
    "    noise = np.random.normal(mean, sigma, img.shape)\n",
    "    # noise + 原圖\n",
    "    gaussian_out = img + noise\n",
    "    # 所有值必須介於 0~1 之間，超過1 = 1，小於0 = 0\n",
    "    gaussian_out = np.clip(gaussian_out, 0, 1)\n",
    "    \n",
    "    # 原圖: float -> int (0~1 -> 0~255)\n",
    "    gaussian_out = np.uint8(gaussian_out*255)\n",
    "    # noise: float -> int (0~1 -> 0~255)\n",
    "    noise = np.uint8(noise*255)\n",
    "\n",
    "    return gaussian_out "
   ]
  },
  {
   "cell_type": "code",
   "execution_count": null,
   "metadata": {},
   "outputs": [],
   "source": [
    "def modify_contrast_and_brightness(img, brightness=0 , contrast=0):   \n",
    "\n",
    "    B = brightness / 255.0\n",
    "    c = contrast / 255.0 \n",
    "    k = math.tan((45 + 44 * c) / 180 * math.pi)\n",
    "\n",
    "    img = (img - 127.5 * (1 - B)) * k + 127.5 * (1 + B)\n",
    "      \n",
    "    # 所有值必須介於 0~255 之間，超過255 = 255，小於 0 = 0\n",
    "    img = np.clip(img, 0, 255).astype(np.uint8)\n",
    "\n",
    "    return img"
   ]
  },
  {
   "cell_type": "code",
   "execution_count": null,
   "metadata": {},
   "outputs": [],
   "source": [
    "def modify_lightness_saturation(img, lightness = 0, saturation = 0):\n",
    "    # lightness 調整為  \"1 +/- 幾 %\"\n",
    "    # saturation 調整為 \"1 +/- 幾 %\"\n",
    "    origin_img = img\n",
    "\n",
    "    # 圖像歸一化，且轉換為浮點型\n",
    "    fImg = img.astype(np.float32)\n",
    "    fImg = fImg / 255.0\n",
    "    \n",
    "    # 顏色空間轉換 BGR -> HLS\n",
    "    hlsImg = cv2.cvtColor(fImg, cv2.COLOR_BGR2HLS)\n",
    "    hlsCopy = np.copy(hlsImg)\n",
    " \n",
    "    # 亮度調整\n",
    "    hlsCopy[:, :, 1] = (1 + lightness / 100.0) * hlsCopy[:, :, 1]\n",
    "    hlsCopy[:, :, 1][hlsCopy[:, :, 1] > 1] = 1  # 應該要介於 0~1，計算出來超過1 = 1\n",
    "\n",
    "    # 飽和度調整\n",
    "    hlsCopy[:, :, 2] = (1 + saturation / 100.0) * hlsCopy[:, :, 2]\n",
    "    hlsCopy[:, :, 2][hlsCopy[:, :, 2] > 1] = 1  # 應該要介於 0~1，計算出來超過1 = 1\n",
    "    \n",
    "    # 顏色空間反轉換 HLS -> BGR \n",
    "    result_img = cv2.cvtColor(hlsCopy, cv2.COLOR_HLS2BGR)\n",
    "    result_img = ((result_img * 255).astype(np.uint8))\n",
    "\n",
    "    return result_img\n",
    "    "
   ]
  },
  {
   "cell_type": "code",
   "execution_count": null,
   "metadata": {
    "scrolled": true
   },
   "outputs": [],
   "source": [
    "# 讀取彩色圖像\n",
    "img = cv2.imread('./testdata/cat.jpg', cv2.IMREAD_COLOR)\n",
    "\n",
    "h, w, dim = img.shape\n",
    "\n",
    "# control analysis size\n",
    "if h>=1000 or w>=1000:\n",
    "    img = resize_img(img, scale_percent=30)\n",
    "    \n",
    "\n",
    "half_MAX_VALUE = 100\n",
    "half_BIG_MAX_VALUE = 255\n",
    "\n",
    "\n",
    "# 修圖主視窗\n",
    "cv2.namedWindow(\"My photoshop\", cv2.WINDOW_AUTOSIZE) # cv2.WINDOW_NORMAL)\n",
    "\n",
    "\n",
    "def nothing(*arg):\n",
    "    pass\n",
    "\n",
    "\n",
    "# 滑動塊\n",
    "cv2.createTrackbar(\"rotation\", \"My photoshop\", 180, 2*180, nothing)\n",
    "cv2.createTrackbar(\"brightness\", \"My photoshop\", half_MAX_VALUE, 2*half_MAX_VALUE, nothing) # 亮度\n",
    "cv2.createTrackbar(\"contrast\", \"My photoshop\", half_BIG_MAX_VALUE, 2*half_BIG_MAX_VALUE, nothing) # 對比\n",
    "cv2.createTrackbar(\"lightness\", \"My photoshop\", half_MAX_VALUE, 2*half_MAX_VALUE, nothing) # 亮度\n",
    "cv2.createTrackbar(\"saturation\", \"My photoshop\", half_BIG_MAX_VALUE, 2*half_BIG_MAX_VALUE, nothing) # 飽和度\n",
    "\n",
    "cv2.createTrackbar(\"noise\", \"My photoshop\", 0, half_MAX_VALUE, nothing) # 顆粒點\n",
    "\n",
    "\n",
    "# 調整飽和度和亮度\n",
    "while True:\n",
    "    time.sleep(0.001) # for better memory use\n",
    "    \n",
    "    img_copy = np.copy(img)\n",
    "    h, w, dim = img_copy.shape\n",
    "    \n",
    "    rotation = cv2.getTrackbarPos('rotation', 'My photoshop') - 180\n",
    "    lightness = cv2.getTrackbarPos('lightness', 'My photoshop') - half_MAX_VALUE \n",
    "    saturation = cv2.getTrackbarPos('saturation', 'My photoshop') - half_BIG_MAX_VALUE \n",
    "    brightness = cv2.getTrackbarPos('brightness', 'My photoshop') - half_MAX_VALUE\n",
    "    contrast = cv2.getTrackbarPos('contrast', 'My photoshop') - half_BIG_MAX_VALUE \n",
    "    noise = cv2.getTrackbarPos('noise', 'My photoshop')\n",
    "        \n",
    "    img_copy = rotate_img(img_copy, rotation)\n",
    "    img_copy = modify_lightness_saturation(img_copy, lightness, saturation)\n",
    "    img_copy = modify_contrast_and_brightness(img_copy, brightness , contrast)   \n",
    "    \n",
    "    img_copy = gaussian_noise(img_copy, mean=0, sigma=noise/100)\n",
    "    \n",
    "    msg = \"Press ESC to exit, or press S to save and exit.\"\n",
    "    img_copy = cv2.putText(img_copy, msg, (10, h-10), cv2.FONT_HERSHEY_COMPLEX, 0.5, (255, 255, 255), 1, cv2.LINE_AA)\n",
    "    \n",
    "    # 顯示調整後的效果\n",
    "    cv2.imshow(\"My photoshop\", img_copy)\n",
    "\n",
    "    \n",
    "    ch = cv2.waitKey(5)\n",
    "    if ch == 27:\n",
    "        # 按 ESC 鍵退出\n",
    "        break\n",
    "    elif ch == ord('s'):\n",
    "        # 按 s 鍵保存結果並退出\n",
    "        cv2.imwrite(\"result.jpg\", img_copy)\n",
    "        break\n",
    "        \n",
    "\n",
    "# 關閉所有的窗口\n",
    "cv2.destroyAllWindows()"
   ]
  },
  {
   "cell_type": "code",
   "execution_count": null,
   "metadata": {},
   "outputs": [],
   "source": []
  },
  {
   "cell_type": "markdown",
   "metadata": {},
   "source": [
    "# Reference\n",
    "\n",
    "https://www.itdaan.com/tw/6488189fb5d7d60b163039cd0a004f70\n",
    "\n",
    "https://blog.csdn.net/jacke121/article/details/54718563\n",
    "\n",
    "https://blog.csdn.net/aa846555831/article/details/52372884?utm_medium=distribute.pc_relevant.none-task-blog-BlogCommendFromMachineLearnPai2-1.channel_param&depth_1-utm_source=distribute.pc_relevant.none-task-blog-BlogCommendFromMachineLearnPai2-1.channel_param\n",
    "\n",
    "https://web-backend.icare.univ-lille.fr/tutorials/convert_a_matplotlib_figure\n",
    "\n",
    "https://www.itread01.com/content/1547426526.html\n",
    "\n",
    "http://www.shengwn.com/page/2018-07-22/how_to_make_a_filter_with_python.htm\n",
    "\n",
    "https://blog.csdn.net/aa846555831/article/details/52372884\n",
    "\n",
    "https://www.thetopsites.net/article/58641662.shtml\n",
    "\n",
    "https://blog.csdn.net/fanjiule/article/details/81606596\n",
    "\n",
    "https://blog.gtwang.org/programming/opencv-drawing-functions-tutorial/\n",
    "\n",
    "https://blog.csdn.net/wuyoy520/article/details/47111295\n",
    "\n",
    "\n",
    "\n",
    "\n"
   ]
  },
  {
   "cell_type": "code",
   "execution_count": null,
   "metadata": {},
   "outputs": [],
   "source": []
  },
  {
   "cell_type": "code",
   "execution_count": null,
   "metadata": {},
   "outputs": [],
   "source": []
  },
  {
   "cell_type": "code",
   "execution_count": null,
   "metadata": {},
   "outputs": [],
   "source": []
  },
  {
   "cell_type": "code",
   "execution_count": null,
   "metadata": {},
   "outputs": [],
   "source": []
  },
  {
   "cell_type": "code",
   "execution_count": null,
   "metadata": {},
   "outputs": [],
   "source": []
  },
  {
   "cell_type": "code",
   "execution_count": null,
   "metadata": {},
   "outputs": [],
   "source": []
  },
  {
   "cell_type": "code",
   "execution_count": null,
   "metadata": {},
   "outputs": [],
   "source": []
  },
  {
   "cell_type": "code",
   "execution_count": null,
   "metadata": {},
   "outputs": [],
   "source": []
  },
  {
   "cell_type": "code",
   "execution_count": null,
   "metadata": {},
   "outputs": [],
   "source": []
  },
  {
   "cell_type": "code",
   "execution_count": null,
   "metadata": {},
   "outputs": [],
   "source": []
  },
  {
   "cell_type": "code",
   "execution_count": null,
   "metadata": {},
   "outputs": [],
   "source": []
  },
  {
   "cell_type": "code",
   "execution_count": null,
   "metadata": {},
   "outputs": [],
   "source": []
  },
  {
   "cell_type": "code",
   "execution_count": null,
   "metadata": {},
   "outputs": [],
   "source": []
  },
  {
   "cell_type": "code",
   "execution_count": null,
   "metadata": {},
   "outputs": [],
   "source": []
  },
  {
   "cell_type": "code",
   "execution_count": null,
   "metadata": {},
   "outputs": [],
   "source": []
  },
  {
   "cell_type": "code",
   "execution_count": null,
   "metadata": {},
   "outputs": [],
   "source": []
  },
  {
   "cell_type": "code",
   "execution_count": null,
   "metadata": {},
   "outputs": [],
   "source": []
  }
 ],
 "metadata": {
  "kernelspec": {
   "display_name": "Python 3",
   "language": "python",
   "name": "python3"
  },
  "language_info": {
   "codemirror_mode": {
    "name": "ipython",
    "version": 3
   },
   "file_extension": ".py",
   "mimetype": "text/x-python",
   "name": "python",
   "nbconvert_exporter": "python",
   "pygments_lexer": "ipython3",
   "version": "3.7.7"
  },
  "varInspector": {
   "cols": {
    "lenName": 16,
    "lenType": 16,
    "lenVar": 40
   },
   "kernels_config": {
    "python": {
     "delete_cmd_postfix": "",
     "delete_cmd_prefix": "del ",
     "library": "var_list.py",
     "varRefreshCmd": "print(var_dic_list())"
    },
    "r": {
     "delete_cmd_postfix": ") ",
     "delete_cmd_prefix": "rm(",
     "library": "var_list.r",
     "varRefreshCmd": "cat(var_dic_list()) "
    }
   },
   "types_to_exclude": [
    "module",
    "function",
    "builtin_function_or_method",
    "instance",
    "_Feature"
   ],
   "window_display": false
  }
 },
 "nbformat": 4,
 "nbformat_minor": 4
}
