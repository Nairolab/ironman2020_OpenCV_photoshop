{
 "cells": [
  {
   "cell_type": "code",
   "execution_count": null,
   "metadata": {
    "ExecuteTime": {
     "end_time": "2020-08-29T18:08:27.165671Z",
     "start_time": "2020-08-29T18:08:27.162721Z"
    }
   },
   "outputs": [],
   "source": [
    "import numpy as np\n",
    "import matplotlib.pyplot as plt\n",
    "import os\n",
    "import cv2\n",
    "import time\n",
    "from IPython.display import clear_output"
   ]
  },
  {
   "cell_type": "code",
   "execution_count": null,
   "metadata": {
    "ExecuteTime": {
     "end_time": "2020-08-29T18:08:27.171456Z",
     "start_time": "2020-08-29T18:08:27.168416Z"
    }
   },
   "outputs": [],
   "source": [
    "def show_img(img):\n",
    "    image_rgb = cv2.cvtColor(img, cv2.COLOR_BGR2RGB)\n",
    "    plt.imshow(image_rgb)\n",
    "    plt.show()"
   ]
  },
  {
   "cell_type": "markdown",
   "metadata": {},
   "source": [
    "# process video (one frame)"
   ]
  },
  {
   "cell_type": "code",
   "execution_count": null,
   "metadata": {
    "ExecuteTime": {
     "end_time": "2020-08-29T18:08:27.176687Z",
     "start_time": "2020-08-29T18:08:27.173642Z"
    }
   },
   "outputs": [],
   "source": [
    "def process_one_frame(img):\n",
    "    # do something here\n",
    "    \n",
    "    return img"
   ]
  },
  {
   "cell_type": "code",
   "execution_count": null,
   "metadata": {},
   "outputs": [],
   "source": []
  },
  {
   "cell_type": "code",
   "execution_count": null,
   "metadata": {},
   "outputs": [],
   "source": []
  },
  {
   "cell_type": "code",
   "execution_count": null,
   "metadata": {},
   "outputs": [],
   "source": []
  },
  {
   "cell_type": "markdown",
   "metadata": {},
   "source": [
    "# load video"
   ]
  },
  {
   "cell_type": "code",
   "execution_count": null,
   "metadata": {
    "ExecuteTime": {
     "end_time": "2020-08-29T18:08:27.215493Z",
     "start_time": "2020-08-29T18:08:27.179624Z"
    }
   },
   "outputs": [],
   "source": [
    "video_path = './testdata/cat.mp4'\n",
    "\n",
    "vc = cv2.VideoCapture(video_path)\n",
    "fps = vc.get(cv2.CAP_PROP_FPS)\n",
    "frame_count = int(vc.get(cv2.CAP_PROP_FRAME_COUNT))\n",
    "video = []"
   ]
  },
  {
   "cell_type": "markdown",
   "metadata": {},
   "source": [
    "# process video"
   ]
  },
  {
   "cell_type": "code",
   "execution_count": null,
   "metadata": {
    "ExecuteTime": {
     "end_time": "2020-08-29T18:09:32.496420Z",
     "start_time": "2020-08-29T18:09:30.198304Z"
    }
   },
   "outputs": [],
   "source": [
    "tfirstStart = time.time()\n",
    "# for idx in range(frame_count):\n",
    "for idx in range(600):  # do first 600 frames (20 sec)  \n",
    "    tStart = time.time() # time start\n",
    "    vc.set(1, idx)\n",
    "    ret, frame = vc.read()\n",
    "    height, width, layers = frame.shape\n",
    "    size = (width, height)\n",
    "    \n",
    "    if frame is not None:\n",
    "        out_frame = process_one_frame(frame)\n",
    "        video.append(out_frame)\n",
    "        tEnd = time.time() # time end (processing one frame)\n",
    "        \n",
    "        clear_output(wait=True)\n",
    "#         show_img(out_frame)\n",
    "        print(\"process: {}/{}\".format(idx+1 , frame_count))\n",
    "        print(\"Cost {} sec\".format(tEnd - tStart)) \n",
    "        \n",
    "        \n",
    "vc.release()\n",
    "print(\"Total cost {} sec\".format(tEnd - tfirstStart))"
   ]
  },
  {
   "cell_type": "code",
   "execution_count": null,
   "metadata": {},
   "outputs": [],
   "source": []
  },
  {
   "cell_type": "code",
   "execution_count": null,
   "metadata": {},
   "outputs": [],
   "source": [
    "# # cv2 to PIL    \n",
    "# PIL_frame = Image.fromarray(cv2.cvtColor(cv2_frame,cv2.COLOR_BGR2RGB))  \n",
    "# PIL_frame = process_one_frame(PIL_frame)\n",
    "\n",
    "# # PIL to cv2\n",
    "# cv2_frame = cv2.cvtColor(np.asarray(PIL_frame),cv2.COLOR_RGB2BGR)  \n",
    "# cv2_frame = (cv2_frame).astype(np.uint8)"
   ]
  },
  {
   "cell_type": "markdown",
   "metadata": {},
   "source": [
    "# make video"
   ]
  },
  {
   "cell_type": "code",
   "execution_count": null,
   "metadata": {
    "ExecuteTime": {
     "end_time": "2020-08-29T18:08:39.722979Z",
     "start_time": "2020-08-29T18:08:27.173Z"
    }
   },
   "outputs": [],
   "source": [
    "result_name = './test_result/out.mp4'\n",
    "\n",
    "out = cv2.VideoWriter(result_name, cv2.VideoWriter_fourcc(*'DIVX'), fps, size)\n",
    "\n",
    "for frame in video:\n",
    "#     clear_output(wait=True)\n",
    "#     show_img(frame)\n",
    "    out.write(frame)\n",
    "\n",
    "out.release()\n",
    "print(\"Finish making video !!!\")"
   ]
  },
  {
   "cell_type": "code",
   "execution_count": null,
   "metadata": {},
   "outputs": [],
   "source": []
  },
  {
   "cell_type": "code",
   "execution_count": null,
   "metadata": {},
   "outputs": [],
   "source": []
  },
  {
   "cell_type": "code",
   "execution_count": null,
   "metadata": {},
   "outputs": [],
   "source": []
  }
 ],
 "metadata": {
  "kernelspec": {
   "display_name": "Python 3",
   "language": "python",
   "name": "python3"
  },
  "language_info": {
   "codemirror_mode": {
    "name": "ipython",
    "version": 3
   },
   "file_extension": ".py",
   "mimetype": "text/x-python",
   "name": "python",
   "nbconvert_exporter": "python",
   "pygments_lexer": "ipython3",
   "version": "3.8.5"
  },
  "varInspector": {
   "cols": {
    "lenName": 16,
    "lenType": 16,
    "lenVar": 40
   },
   "kernels_config": {
    "python": {
     "delete_cmd_postfix": "",
     "delete_cmd_prefix": "del ",
     "library": "var_list.py",
     "varRefreshCmd": "print(var_dic_list())"
    },
    "r": {
     "delete_cmd_postfix": ") ",
     "delete_cmd_prefix": "rm(",
     "library": "var_list.r",
     "varRefreshCmd": "cat(var_dic_list()) "
    }
   },
   "types_to_exclude": [
    "module",
    "function",
    "builtin_function_or_method",
    "instance",
    "_Feature"
   ],
   "window_display": false
  }
 },
 "nbformat": 4,
 "nbformat_minor": 2
}
